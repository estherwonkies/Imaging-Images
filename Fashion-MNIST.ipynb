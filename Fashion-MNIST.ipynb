{
 "cells": [
  {
   "cell_type": "markdown",
   "metadata": {},
   "source": [
    "# Fashion Mnist\n",
    "\n",
    "\n",
    "In this notebook the goal is to write a CNN that can classify clothing items. Use the code in cifar 10 notebook as a reference to achieve this. The dataset was downloaded from [here](https://github.com/zalandoresearch/fashion-mnist).   You can either create your own architecture and train from scratch, or alternatively you could retrain one of the pretrained models.\n",
    "If you don't have a GPU, you can try to use a free cloud service that does like [Kaggle](https://www.kaggle.com/kernels) or [Colabratory](https://colab.research.google.com/notebooks/welcome.ipynb#recent=true)"
   ]
  },
  {
   "cell_type": "markdown",
   "metadata": {},
   "source": [
    "# Image Preperation\n",
    "\n",
    "Run the bellow cells to read the images into memory.\n",
    "\n"
   ]
  },
  {
   "cell_type": "code",
   "execution_count": 1,
   "metadata": {},
   "outputs": [],
   "source": [
    "import os\n",
    "import gzip\n",
    "import numpy as np"
   ]
  },
  {
   "cell_type": "code",
   "execution_count": 2,
   "metadata": {},
   "outputs": [],
   "source": [
    "def load_mnist(path, kind='train'):\n",
    "\n",
    "    labels_path = os.path.join(path,\n",
    "                               '%s-labels-idx1-ubyte.gz'\n",
    "                               % kind)\n",
    "    images_path = os.path.join(path,\n",
    "                               '%s-images-idx3-ubyte.gz'\n",
    "                               % kind)\n",
    "\n",
    "    with gzip.open(labels_path, 'rb') as lbpath:\n",
    "        labels = np.frombuffer(lbpath.read(), dtype=np.uint8,\n",
    "                               offset=8)\n",
    "\n",
    "    with gzip.open(images_path, 'rb') as imgpath:\n",
    "        images = np.frombuffer(imgpath.read(), dtype=np.uint8,\n",
    "                               offset=16).reshape(len(labels), 784)\n",
    "\n",
    "    return images, labels"
   ]
  },
  {
   "cell_type": "code",
   "execution_count": 3,
   "metadata": {},
   "outputs": [],
   "source": [
    "path = 'data/' #change this path to where you kept the data"
   ]
  },
  {
   "cell_type": "code",
   "execution_count": 4,
   "metadata": {},
   "outputs": [],
   "source": [
    "imgs,labels = load_mnist(path)"
   ]
  },
  {
   "cell_type": "code",
   "execution_count": 5,
   "metadata": {},
   "outputs": [
    {
     "data": {
      "text/plain": [
       "9"
      ]
     },
     "execution_count": 5,
     "metadata": {},
     "output_type": "execute_result"
    }
   ],
   "source": [
    "labels[0]"
   ]
  },
  {
   "cell_type": "code",
   "execution_count": 6,
   "metadata": {},
   "outputs": [
    {
     "data": {
      "text/plain": [
       "array([  0,   0,   0,   0,   0,   0,   0,   0,   0,   0,   0,   0,   0,\n",
       "         0,   0,   0,   0,   0,   0,   0,   0,   0,   0,   0,   0,   0,\n",
       "         0,   0,   0,   0,   0,   0,   0,   0,   0,   0,   0,   0,   0,\n",
       "         0,   0,   0,   0,   0,   0,   0,   0,   0,   0,   0,   0,   0,\n",
       "         0,   0,   0,   0,   0,   0,   0,   0,   0,   0,   0,   0,   0,\n",
       "         0,   0,   0,   0,   0,   0,   0,   0,   0,   0,   0,   0,   0,\n",
       "         0,   0,   0,   0,   0,   0,   0,   0,   0,   0,   0,   0,   0,\n",
       "         0,   0,   0,   0,   0,   1,   0,   0,  13,  73,   0,   0,   1,\n",
       "         4,   0,   0,   0,   0,   1,   1,   0,   0,   0,   0,   0,   0,\n",
       "         0,   0,   0,   0,   0,   0,   0,   3,   0,  36, 136, 127,  62,\n",
       "        54,   0,   0,   0,   1,   3,   4,   0,   0,   3,   0,   0,   0,\n",
       "         0,   0,   0,   0,   0,   0,   0,   0,   0,   6,   0, 102, 204,\n",
       "       176, 134, 144, 123,  23,   0,   0,   0,   0,  12,  10,   0,   0,\n",
       "         0,   0,   0,   0,   0,   0,   0,   0,   0,   0,   0,   0,   0,\n",
       "       155, 236, 207, 178, 107, 156, 161, 109,  64,  23,  77, 130,  72,\n",
       "        15,   0,   0,   0,   0,   0,   0,   0,   0,   0,   0,   0,   1,\n",
       "         0,  69, 207, 223, 218, 216, 216, 163, 127, 121, 122, 146, 141,\n",
       "        88, 172,  66,   0,   0,   0,   0,   0,   0,   0,   0,   0,   1,\n",
       "         1,   1,   0, 200, 232, 232, 233, 229, 223, 223, 215, 213, 164,\n",
       "       127, 123, 196, 229,   0,   0,   0,   0,   0,   0,   0,   0,   0,\n",
       "         0,   0,   0,   0,   0, 183, 225, 216, 223, 228, 235, 227, 224,\n",
       "       222, 224, 221, 223, 245, 173,   0,   0,   0,   0,   0,   0,   0,\n",
       "         0,   0,   0,   0,   0,   0,   0, 193, 228, 218, 213, 198, 180,\n",
       "       212, 210, 211, 213, 223, 220, 243, 202,   0,   0,   0,   0,   0,\n",
       "         0,   0,   0,   0,   0,   1,   3,   0,  12, 219, 220, 212, 218,\n",
       "       192, 169, 227, 208, 218, 224, 212, 226, 197, 209,  52,   0,   0,\n",
       "         0,   0,   0,   0,   0,   0,   0,   0,   6,   0,  99, 244, 222,\n",
       "       220, 218, 203, 198, 221, 215, 213, 222, 220, 245, 119, 167,  56,\n",
       "         0,   0,   0,   0,   0,   0,   0,   0,   0,   4,   0,   0,  55,\n",
       "       236, 228, 230, 228, 240, 232, 213, 218, 223, 234, 217, 217, 209,\n",
       "        92,   0,   0,   0,   1,   4,   6,   7,   2,   0,   0,   0,   0,\n",
       "         0, 237, 226, 217, 223, 222, 219, 222, 221, 216, 223, 229, 215,\n",
       "       218, 255,  77,   0,   0,   3,   0,   0,   0,   0,   0,   0,   0,\n",
       "        62, 145, 204, 228, 207, 213, 221, 218, 208, 211, 218, 224, 223,\n",
       "       219, 215, 224, 244, 159,   0,   0,   0,   0,   0,  18,  44,  82,\n",
       "       107, 189, 228, 220, 222, 217, 226, 200, 205, 211, 230, 224, 234,\n",
       "       176, 188, 250, 248, 233, 238, 215,   0,   0,  57, 187, 208, 224,\n",
       "       221, 224, 208, 204, 214, 208, 209, 200, 159, 245, 193, 206, 223,\n",
       "       255, 255, 221, 234, 221, 211, 220, 232, 246,   0,   3, 202, 228,\n",
       "       224, 221, 211, 211, 214, 205, 205, 205, 220, 240,  80, 150, 255,\n",
       "       229, 221, 188, 154, 191, 210, 204, 209, 222, 228, 225,   0,  98,\n",
       "       233, 198, 210, 222, 229, 229, 234, 249, 220, 194, 215, 217, 241,\n",
       "        65,  73, 106, 117, 168, 219, 221, 215, 217, 223, 223, 224, 229,\n",
       "        29,  75, 204, 212, 204, 193, 205, 211, 225, 216, 185, 197, 206,\n",
       "       198, 213, 240, 195, 227, 245, 239, 223, 218, 212, 209, 222, 220,\n",
       "       221, 230,  67,  48, 203, 183, 194, 213, 197, 185, 190, 194, 192,\n",
       "       202, 214, 219, 221, 220, 236, 225, 216, 199, 206, 186, 181, 177,\n",
       "       172, 181, 205, 206, 115,   0, 122, 219, 193, 179, 171, 183, 196,\n",
       "       204, 210, 213, 207, 211, 210, 200, 196, 194, 191, 195, 191, 198,\n",
       "       192, 176, 156, 167, 177, 210,  92,   0,   0,  74, 189, 212, 191,\n",
       "       175, 172, 175, 181, 185, 188, 189, 188, 193, 198, 204, 209, 210,\n",
       "       210, 211, 188, 188, 194, 192, 216, 170,   0,   2,   0,   0,   0,\n",
       "        66, 200, 222, 237, 239, 242, 246, 243, 244, 221, 220, 193, 191,\n",
       "       179, 182, 182, 181, 176, 166, 168,  99,  58,   0,   0,   0,   0,\n",
       "         0,   0,   0,   0,   0,  40,  61,  44,  72,  41,  35,   0,   0,\n",
       "         0,   0,   0,   0,   0,   0,   0,   0,   0,   0,   0,   0,   0,\n",
       "         0,   0,   0,   0,   0,   0,   0,   0,   0,   0,   0,   0,   0,\n",
       "         0,   0,   0,   0,   0,   0,   0,   0,   0,   0,   0,   0,   0,\n",
       "         0,   0,   0,   0,   0,   0,   0,   0,   0,   0,   0,   0,   0,\n",
       "         0,   0,   0,   0,   0,   0,   0,   0,   0,   0,   0,   0,   0,\n",
       "         0,   0,   0,   0], dtype=uint8)"
      ]
     },
     "execution_count": 6,
     "metadata": {},
     "output_type": "execute_result"
    }
   ],
   "source": [
    "imgs[0]"
   ]
  },
  {
   "cell_type": "markdown",
   "metadata": {},
   "source": [
    "Reshape the images to be 28 by 28"
   ]
  },
  {
   "cell_type": "code",
   "execution_count": 7,
   "metadata": {},
   "outputs": [
    {
     "data": {
      "text/plain": [
       "(60000, 784)"
      ]
     },
     "execution_count": 7,
     "metadata": {},
     "output_type": "execute_result"
    }
   ],
   "source": [
    "imgs.shape #number of images, flattened shape"
   ]
  },
  {
   "cell_type": "code",
   "execution_count": 8,
   "metadata": {},
   "outputs": [
    {
     "data": {
      "text/plain": [
       "(60000, 28, 28, 1)"
      ]
     },
     "execution_count": 8,
     "metadata": {},
     "output_type": "execute_result"
    }
   ],
   "source": [
    "imgs=imgs.reshape(60000,28,28,1)\n",
    "imgs.shape"
   ]
  },
  {
   "cell_type": "markdown",
   "metadata": {},
   "source": [
    "You may wish to plot the images as a sanity check."
   ]
  },
  {
   "cell_type": "markdown",
   "metadata": {},
   "source": [
    "# Label Prepration\n",
    "\n",
    "You need to onehot encode the training labels."
   ]
  },
  {
   "cell_type": "code",
   "execution_count": 9,
   "metadata": {},
   "outputs": [
    {
     "name": "stderr",
     "output_type": "stream",
     "text": [
      "C:\\Users\\LH772HBK\\Anaconda3\\envs\\tensorflow\\lib\\importlib\\_bootstrap.py:222: RuntimeWarning: numpy.dtype size changed, may indicate binary incompatibility. Expected 96, got 88\n",
      "  return f(*args, **kwds)\n",
      "Using TensorFlow backend.\n",
      "C:\\Users\\LH772HBK\\Anaconda3\\envs\\tensorflow\\lib\\importlib\\_bootstrap.py:222: RuntimeWarning: numpy.dtype size changed, may indicate binary incompatibility. Expected 96, got 88\n",
      "  return f(*args, **kwds)\n",
      "C:\\Users\\LH772HBK\\Anaconda3\\envs\\tensorflow\\lib\\importlib\\_bootstrap.py:222: RuntimeWarning: numpy.dtype size changed, may indicate binary incompatibility. Expected 96, got 88\n",
      "  return f(*args, **kwds)\n"
     ]
    }
   ],
   "source": [
    "from sklearn.preprocessing import LabelBinarizer\n",
    "from keras.utils import to_categorical"
   ]
  },
  {
   "cell_type": "code",
   "execution_count": 10,
   "metadata": {},
   "outputs": [
    {
     "data": {
      "text/plain": [
       "array([[0., 0., 0., ..., 0., 0., 1.],\n",
       "       [1., 0., 0., ..., 0., 0., 0.],\n",
       "       [1., 0., 0., ..., 0., 0., 0.],\n",
       "       ...,\n",
       "       [0., 0., 0., ..., 0., 0., 0.],\n",
       "       [1., 0., 0., ..., 0., 0., 0.],\n",
       "       [0., 0., 0., ..., 0., 0., 0.]], dtype=float32)"
      ]
     },
     "execution_count": 10,
     "metadata": {},
     "output_type": "execute_result"
    }
   ],
   "source": [
    "num_classes = 10\n",
    "label= to_categorical(labels, num_classes)\n",
    "label"
   ]
  },
  {
   "cell_type": "markdown",
   "metadata": {},
   "source": [
    "lb=LabelBinarizer()\n",
    "lb\n",
    "label=lb.fit_transform(labels)\n",
    "lbl=enc.fit_transform(label)\n",
    "label"
   ]
  },
  {
   "cell_type": "code",
   "execution_count": 11,
   "metadata": {},
   "outputs": [],
   "source": [
    "#onehot encode labels here"
   ]
  },
  {
   "cell_type": "markdown",
   "metadata": {},
   "source": [
    "# Model\n",
    "\n",
    "In general using more layers can allow you to learn more complex relationships in data however the network will take much longer to train. However more layers doesn't always mean a better model and it can increase your chances of overfitting, to prevent this we often add dropout layers.\n"
   ]
  },
  {
   "cell_type": "code",
   "execution_count": 12,
   "metadata": {},
   "outputs": [
    {
     "name": "stdout",
     "output_type": "stream",
     "text": [
      "(40200, 28, 28, 1) (19800, 28, 28, 1) (40200, 10) (19800, 10)\n"
     ]
    }
   ],
   "source": [
    "from sklearn.model_selection import train_test_split\n",
    "\n",
    "x= imgs\n",
    "y= label\n",
    "\n",
    "train_x, test_x, train_y, test_y = train_test_split( x, y, test_size=0.33)\n",
    "\n",
    "print(train_x.shape, test_x.shape, train_y.shape, test_y.shape)"
   ]
  },
  {
   "cell_type": "code",
   "execution_count": 13,
   "metadata": {},
   "outputs": [],
   "source": [
    "from keras.models import Sequential\n",
    "from keras.layers import Dense, Activation, Conv2D, SeparableConv2D\n",
    "from keras.layers import MaxPooling2D, Dropout, Flatten, ZeroPadding2D\n",
    "\n",
    "model= Sequential()\n",
    "\n",
    "model.add(Conv2D(64, (3, 3), padding='same'))\n",
    "model.add(Activation('relu'))\n",
    "model.add(MaxPooling2D(pool_size=(2, 2)))\n",
    "\n",
    "model.add(Conv2D(32, (3, 3), padding='same'))\n",
    "model.add(Activation('relu'))\n",
    "model.add(MaxPooling2D(pool_size=(2, 2)))\n",
    "\n",
    "#depthwise convolution\n",
    "model.add(SeparableConv2D(32,(3,3), padding='same'))\n",
    "model.add(Activation('relu'))\n",
    "\n",
    "model.add(Flatten())\n",
    "model.add(Activation('relu'))\n",
    "model.add(Dense(64, activation='relu'))\n",
    "model.add(Dense(64, activation='relu'))\n",
    "model.add(Dropout(0.5))\n",
    "model.add(Dense(10, activation='softmax'))\n"
   ]
  },
  {
   "cell_type": "markdown",
   "metadata": {},
   "source": [
    "# Loss function and Compile\n",
    "\n",
    "Since this is a classication problem we'll need to use catergorical crossentropy for the loss function.  For optimizers there are a lot of choices, a good pick is Adadelta which provides us with an active learning rate."
   ]
  },
  {
   "cell_type": "code",
   "execution_count": 15,
   "metadata": {},
   "outputs": [],
   "source": [
    "model.compile(optimizer='adam', loss='categorical_crossentropy', metrics=['accuracy'])"
   ]
  },
  {
   "cell_type": "markdown",
   "metadata": {},
   "source": [
    "# Train\n",
    "\n",
    "Train the model.   Remember to set `model.fit` to a variable since you'll need it later.\n",
    "\n",
    "```python\n",
    "history = model.fit(#parameters in here)\n",
    "```\n",
    "\n",
    "The history variable will contain the validation and accuracy."
   ]
  },
  {
   "cell_type": "code",
   "execution_count": 19,
   "metadata": {
    "scrolled": true
   },
   "outputs": [
    {
     "name": "stdout",
     "output_type": "stream",
     "text": [
      "Train on 40200 samples, validate on 19800 samples\n",
      "Epoch 1/15\n",
      "40200/40200 [==============================] - 34s 851us/step - loss: 0.2014 - acc: 0.9253 - val_loss: 0.2946 - val_acc: 0.9094\n",
      "Epoch 2/15\n",
      "40200/40200 [==============================] - 34s 838us/step - loss: 0.1870 - acc: 0.9300 - val_loss: 0.2853 - val_acc: 0.9025\n",
      "Epoch 3/15\n",
      "40200/40200 [==============================] - 46s 1ms/step - loss: 0.1775 - acc: 0.9340 - val_loss: 0.3276 - val_acc: 0.9038\n",
      "Epoch 4/15\n",
      "40200/40200 [==============================] - 86s 2ms/step - loss: 0.1680 - acc: 0.9363 - val_loss: 0.3215 - val_acc: 0.9028\n",
      "Epoch 5/15\n",
      "40200/40200 [==============================] - 94s 2ms/step - loss: 0.1585 - acc: 0.9410 - val_loss: 0.3315 - val_acc: 0.9044\n",
      "Epoch 6/15\n",
      "40200/40200 [==============================] - 94s 2ms/step - loss: 0.1594 - acc: 0.9395 - val_loss: 0.3210 - val_acc: 0.9080\n",
      "Epoch 7/15\n",
      "40200/40200 [==============================] - 95s 2ms/step - loss: 0.1508 - acc: 0.9422 - val_loss: 0.3209 - val_acc: 0.9028\n",
      "Epoch 8/15\n",
      "40200/40200 [==============================] - 94s 2ms/step - loss: 0.1420 - acc: 0.9464 - val_loss: 0.3709 - val_acc: 0.9034\n",
      "Epoch 9/15\n",
      "40200/40200 [==============================] - 95s 2ms/step - loss: 0.1395 - acc: 0.9472 - val_loss: 0.3348 - val_acc: 0.9056\n",
      "Epoch 10/15\n",
      "40200/40200 [==============================] - 95s 2ms/step - loss: 0.1305 - acc: 0.9506 - val_loss: 0.3553 - val_acc: 0.9018\n",
      "Epoch 11/15\n",
      "40200/40200 [==============================] - 95s 2ms/step - loss: 0.1269 - acc: 0.9526 - val_loss: 0.3758 - val_acc: 0.9083\n",
      "Epoch 12/15\n",
      "40200/40200 [==============================] - 96s 2ms/step - loss: 0.1214 - acc: 0.9538 - val_loss: 0.3683 - val_acc: 0.9058\n",
      "Epoch 13/15\n",
      "40200/40200 [==============================] - 95s 2ms/step - loss: 0.1095 - acc: 0.9587 - val_loss: 0.4046 - val_acc: 0.9088\n",
      "Epoch 14/15\n",
      "40200/40200 [==============================] - 95s 2ms/step - loss: 0.1144 - acc: 0.9571 - val_loss: 0.4147 - val_acc: 0.9061\n",
      "Epoch 15/15\n",
      "40200/40200 [==============================] - 95s 2ms/step - loss: 0.1128 - acc: 0.9573 - val_loss: 0.4182 - val_acc: 0.9057\n"
     ]
    }
   ],
   "source": [
    "history=model.fit(train_x, train_y,validation_data=(test_x, test_y), \n",
    "                  batch_size=100, epochs = 15)"
   ]
  },
  {
   "cell_type": "code",
   "execution_count": 18,
   "metadata": {
    "scrolled": false
   },
   "outputs": [
    {
     "data": {
      "text/plain": [
       "array([[[[-0.02758242,  0.02752937, -0.20711799,  0.10207662,\n",
       "           0.04587452, -0.08097839, -0.09898012, -0.13730434,\n",
       "           0.11411998, -0.15461265,  0.03637661,  0.0611811 ,\n",
       "           0.15263867,  0.10221289, -0.09111543, -0.00946679,\n",
       "           0.03737946, -0.10225132, -0.01719439, -0.05437465,\n",
       "          -0.07209846, -0.07882801,  0.02447329, -0.06044624,\n",
       "           0.07210245, -0.00302402, -0.08984923, -0.01960103,\n",
       "          -0.12104663,  0.07729106, -0.02271967,  0.09007352,\n",
       "          -0.14949565, -0.07406756, -0.04182257, -0.07604052,\n",
       "           0.06852181, -0.30370814,  0.04342749,  0.0331545 ,\n",
       "           0.08354557, -0.01600149,  0.02881669,  0.03840074,\n",
       "          -0.1209956 ,  0.05143006, -0.00284033, -0.14267778,\n",
       "          -0.04517326, -0.03612984, -0.09572221, -0.06787962,\n",
       "          -0.03028938, -0.09594385,  0.05446342, -0.04211015,\n",
       "          -0.15167199,  0.06148753, -0.0319591 , -0.2804451 ,\n",
       "           0.03636916,  0.0130273 , -0.04104482, -0.06842981]],\n",
       "\n",
       "        [[ 0.05904282, -0.07520988,  0.08829989, -0.09285178,\n",
       "           0.09129564,  0.08793338,  0.06645138,  0.0895528 ,\n",
       "          -0.08204659,  0.049656  ,  0.02092889,  0.00695511,\n",
       "          -0.02380597,  0.12535156,  0.05861249, -0.06659189,\n",
       "           0.07532011, -0.1352991 , -0.02538448,  0.01603429,\n",
       "          -0.12898582,  0.13410658, -0.01984408,  0.01421029,\n",
       "           0.02399908, -0.08366922, -0.03466983, -0.00199039,\n",
       "          -0.12421025, -0.18533212,  0.15593518,  0.08604094,\n",
       "          -0.0711069 , -0.10749323, -0.08638517,  0.10105486,\n",
       "          -0.08506727, -0.33485776, -0.03630861,  0.13510446,\n",
       "          -0.04039148, -0.00539588, -0.03042572,  0.02458348,\n",
       "          -0.0034791 ,  0.05109264,  0.06950863,  0.03059484,\n",
       "          -0.01731578,  0.00943821, -0.17052755, -0.09099402,\n",
       "          -0.04180404, -0.12721136, -0.03382722,  0.15917687,\n",
       "          -0.19290361,  0.0628736 ,  0.08356836, -0.10963058,\n",
       "          -0.13002932, -0.16976385, -0.03823005, -0.33469743]],\n",
       "\n",
       "        [[ 0.02072124, -0.00500092, -0.1350711 ,  0.00418237,\n",
       "          -0.15198636,  0.00441808, -0.00636993, -0.1662282 ,\n",
       "          -0.01976394, -0.00607626, -0.01024731, -0.04411818,\n",
       "           0.15284707,  0.01409975, -0.09402173,  0.12909672,\n",
       "           0.03256224, -0.15616193,  0.07823048, -0.13299534,\n",
       "          -0.01366145, -0.06328738,  0.07668109,  0.08677057,\n",
       "           0.04250491,  0.02683418, -0.1386763 ,  0.06237208,\n",
       "          -0.00900471,  0.12269762,  0.07472114,  0.00640198,\n",
       "          -0.09988138,  0.15850084,  0.01591795, -0.0538707 ,\n",
       "           0.02421277, -0.19539759, -0.08487578,  0.03884851,\n",
       "          -0.08160912,  0.00901058, -0.02014557, -0.08598793,\n",
       "           0.05874842, -0.04543023, -0.05807763,  0.10405304,\n",
       "           0.03482108,  0.09011629, -0.25933835,  0.08144501,\n",
       "           0.01636406,  0.04385052, -0.01406232, -0.09077697,\n",
       "          -0.11268058, -0.11933313, -0.03989496,  0.03122718,\n",
       "          -0.05837465,  0.1333335 , -0.06605924, -0.09332012]]],\n",
       "\n",
       "\n",
       "       [[[ 0.04969091, -0.00183588, -0.16294107, -0.15824452,\n",
       "          -0.11283854,  0.18246922, -0.09647599,  0.07412488,\n",
       "          -0.01217882,  0.01898875,  0.02404822, -0.00488907,\n",
       "          -0.17811038, -0.0364433 ,  0.02591387, -0.07696743,\n",
       "          -0.07446136,  0.14520001, -0.04255918, -0.08287015,\n",
       "          -0.0123531 , -0.11546569,  0.12563586, -0.08783502,\n",
       "           0.03987795,  0.03898586,  0.03673463,  0.02051721,\n",
       "           0.112415  , -0.1428456 ,  0.03591861, -0.05319435,\n",
       "           0.09782529, -0.25643545,  0.06877839, -0.0339722 ,\n",
       "           0.00998772, -0.27120575, -0.08485328,  0.0574486 ,\n",
       "           0.01553875, -0.08220249,  0.0954496 , -0.11653129,\n",
       "          -0.00727444,  0.13248378,  0.08936366, -0.2668323 ,\n",
       "           0.08257119,  0.03596832, -0.04966274,  0.03624357,\n",
       "           0.04426401,  0.02291181, -0.08485077,  0.04869359,\n",
       "          -0.00770943, -0.0263683 , -0.0157958 , -0.13919207,\n",
       "          -0.00336967, -0.0562006 ,  0.09716655, -0.01249381]],\n",
       "\n",
       "        [[ 0.00162293, -0.10455319,  0.08395085,  0.01356055,\n",
       "           0.18267804,  0.07087125,  0.17159985, -0.0178962 ,\n",
       "           0.07313646, -0.07911001, -0.0965963 ,  0.01549072,\n",
       "          -0.11378249, -0.08355686,  0.01629511, -0.07563112,\n",
       "           0.13797446,  0.13232423, -0.10840793,  0.00657248,\n",
       "           0.02726606,  0.09869766, -0.0229937 ,  0.01172402,\n",
       "          -0.12135946, -0.1051911 , -0.04039672, -0.02441858,\n",
       "          -0.11381798, -0.01318946,  0.01281068,  0.01727938,\n",
       "           0.08836198,  0.09780767, -0.07851873,  0.01159101,\n",
       "          -0.07252607, -0.16621126, -0.03367159,  0.05370323,\n",
       "           0.13211162, -0.05042983, -0.05302349, -0.12868667,\n",
       "           0.03437332, -0.16438897,  0.05310717,  0.03015268,\n",
       "           0.01642384, -0.11907989, -0.15061167,  0.00461195,\n",
       "          -0.01985544,  0.08554626,  0.13379367,  0.02067201,\n",
       "          -0.00116576,  0.08092082, -0.01998007,  0.02496456,\n",
       "           0.07160305, -0.20520426,  0.08667062, -0.06666213]],\n",
       "\n",
       "        [[ 0.00783229,  0.03313118,  0.02380751, -0.00423684,\n",
       "          -0.00699814, -0.28325406, -0.11313117, -0.16524935,\n",
       "          -0.06127045,  0.06868599,  0.06232   ,  0.03293738,\n",
       "           0.02507528, -0.1284673 ,  0.10185488,  0.10782939,\n",
       "          -0.11029986, -0.19676636, -0.09520722,  0.07241748,\n",
       "          -0.07552524, -0.00430522, -0.10264737, -0.01756566,\n",
       "          -0.37026602,  0.0654892 ,  0.02485261, -0.10904612,\n",
       "           0.04023479,  0.11195381, -0.06187002, -0.10540561,\n",
       "          -0.04671201, -0.08351446, -0.10639299,  0.0431344 ,\n",
       "          -0.00485649,  0.08061452, -0.09410237, -0.04264069,\n",
       "          -0.04659609,  0.09629752, -0.04592989,  0.02656008,\n",
       "           0.00451768, -0.5595137 , -0.1256323 , -0.01981496,\n",
       "          -0.01317538, -0.15020175, -0.1331425 ,  0.019566  ,\n",
       "          -0.04832117, -0.02289316, -0.01954673, -0.2648845 ,\n",
       "           0.10160924,  0.07169419,  0.09729093,  0.08650845,\n",
       "           0.01118008, -0.17502514,  0.04981645,  0.03713167]]],\n",
       "\n",
       "\n",
       "       [[[-0.0772543 ,  0.038434  ,  0.01009757,  0.02847749,\n",
       "          -0.1146917 , -0.05658168,  0.04022968, -0.05992309,\n",
       "          -0.01268998, -0.16448502,  0.00867666, -0.03988643,\n",
       "          -0.42779952,  0.02142967, -0.1944809 ,  0.05837499,\n",
       "           0.0324916 , -0.09349427,  0.06720588, -0.0219462 ,\n",
       "           0.06309901, -0.04457173,  0.00672281,  0.0687355 ,\n",
       "           0.0504562 , -0.07202194,  0.03182277, -0.092705  ,\n",
       "           0.00994351, -0.29690745, -0.02245552, -0.09317803,\n",
       "           0.04822588,  0.06051276,  0.01178468,  0.10113206,\n",
       "          -0.02617223, -0.05463912,  0.10006586, -0.1559497 ,\n",
       "          -0.13054238,  0.05165266, -0.02552701, -0.04538751,\n",
       "           0.07155971, -0.00232079,  0.12384938, -0.10869836,\n",
       "          -0.0399421 , -0.02827527,  0.11768716,  0.02109467,\n",
       "           0.04046182,  0.02256337, -0.14589407,  0.00975179,\n",
       "           0.06935145, -0.00085227, -0.07526985,  0.02936612,\n",
       "          -0.10951366,  0.09839479, -0.08940967, -0.12185241]],\n",
       "\n",
       "        [[ 0.0890909 , -0.05648892, -0.16064623,  0.07022886,\n",
       "          -0.20512132, -0.23856565,  0.04027517,  0.0763546 ,\n",
       "          -0.09248662, -0.02856059, -0.0864952 ,  0.03814997,\n",
       "          -0.47226417, -0.02704303, -0.086123  ,  0.05401447,\n",
       "           0.00202965,  0.10303997, -0.11004574,  0.03120997,\n",
       "          -0.01176982, -0.00757106, -0.11998014, -0.10141161,\n",
       "          -0.12299304,  0.04226079,  0.03724967,  0.08861762,\n",
       "           0.06349587,  0.02522871, -0.22215891,  0.09087488,\n",
       "          -0.10194346,  0.07186438,  0.11689242, -0.12322105,\n",
       "          -0.00355606, -0.03755896,  0.05730193, -0.09782945,\n",
       "          -0.04780385,  0.0032074 ,  0.06983178,  0.03215573,\n",
       "           0.0199919 ,  0.0458647 , -0.09310281,  0.04613735,\n",
       "           0.03040027,  0.06692046,  0.00538146, -0.01646518,\n",
       "           0.02912573,  0.01783087,  0.12013336, -0.05961316,\n",
       "          -0.13508882, -0.11030764, -0.07358351,  0.08524781,\n",
       "           0.09129406, -0.10647582, -0.02569781,  0.02431182]],\n",
       "\n",
       "        [[ 0.00424642, -0.05753357,  0.13023557, -0.0071968 ,\n",
       "          -0.0664399 , -0.42516923, -0.11538706,  0.06549881,\n",
       "           0.09206668,  0.00598779,  0.06496101, -0.00517039,\n",
       "          -0.24150592, -0.05244454,  0.02559076, -0.07269497,\n",
       "          -0.10681786, -0.01373859, -0.03507276, -0.00817584,\n",
       "           0.01539926,  0.10330727,  0.03072514, -0.07079623,\n",
       "          -0.4144619 ,  0.02133292,  0.09300381, -0.0199348 ,\n",
       "          -0.10493328, -0.2470167 , -0.14747521, -0.00118215,\n",
       "           0.04823999, -0.10422983, -0.00376769,  0.01079074,\n",
       "           0.02480624,  0.12344314,  0.07952758,  0.01319857,\n",
       "           0.10655776,  0.0015432 ,  0.04013578,  0.01919406,\n",
       "          -0.00146673, -0.39995587, -0.04256222, -0.00692409,\n",
       "           0.02993665,  0.06304285,  0.04615108, -0.00460558,\n",
       "          -0.11188531, -0.06166993,  0.03253888, -0.3643362 ,\n",
       "           0.04485937, -0.05091975,  0.0771231 , -0.10814693,\n",
       "          -0.00092609,  0.02173697,  0.00875809,  0.13676012]]]],\n",
       "      dtype=float32)"
      ]
     },
     "execution_count": 18,
     "metadata": {},
     "output_type": "execute_result"
    }
   ],
   "source": [
    "model.get_weights()[0]"
   ]
  },
  {
   "cell_type": "markdown",
   "metadata": {},
   "source": [
    "model.save_weights('Fashion_MNISTw1.h5')"
   ]
  },
  {
   "cell_type": "code",
   "execution_count": 20,
   "metadata": {
    "scrolled": false
   },
   "outputs": [
    {
     "name": "stdout",
     "output_type": "stream",
     "text": [
      "_________________________________________________________________\n",
      "Layer (type)                 Output Shape              Param #   \n",
      "=================================================================\n",
      "conv2d_1 (Conv2D)            (None, 28, 28, 64)        640       \n",
      "_________________________________________________________________\n",
      "activation_1 (Activation)    (None, 28, 28, 64)        0         \n",
      "_________________________________________________________________\n",
      "max_pooling2d_1 (MaxPooling2 (None, 14, 14, 64)        0         \n",
      "_________________________________________________________________\n",
      "conv2d_2 (Conv2D)            (None, 14, 14, 32)        18464     \n",
      "_________________________________________________________________\n",
      "activation_2 (Activation)    (None, 14, 14, 32)        0         \n",
      "_________________________________________________________________\n",
      "max_pooling2d_2 (MaxPooling2 (None, 7, 7, 32)          0         \n",
      "_________________________________________________________________\n",
      "separable_conv2d_1 (Separabl (None, 7, 7, 32)          1344      \n",
      "_________________________________________________________________\n",
      "activation_3 (Activation)    (None, 7, 7, 32)          0         \n",
      "_________________________________________________________________\n",
      "flatten_1 (Flatten)          (None, 1568)              0         \n",
      "_________________________________________________________________\n",
      "activation_4 (Activation)    (None, 1568)              0         \n",
      "_________________________________________________________________\n",
      "dense_1 (Dense)              (None, 64)                100416    \n",
      "_________________________________________________________________\n",
      "dense_2 (Dense)              (None, 64)                4160      \n",
      "_________________________________________________________________\n",
      "dropout_1 (Dropout)          (None, 64)                0         \n",
      "_________________________________________________________________\n",
      "dense_3 (Dense)              (None, 10)                650       \n",
      "=================================================================\n",
      "Total params: 125,674\n",
      "Trainable params: 125,674\n",
      "Non-trainable params: 0\n",
      "_________________________________________________________________\n"
     ]
    }
   ],
   "source": [
    "model.summary()"
   ]
  },
  {
   "cell_type": "code",
   "execution_count": null,
   "metadata": {},
   "outputs": [],
   "source": [
    "# Fit model"
   ]
  },
  {
   "cell_type": "markdown",
   "metadata": {},
   "source": [
    "# Plotting\n",
    "\n",
    "After you've trained the model it's good practive to plot the validation loss and accuracy, from this we can see if any over fitting is occuring.\n",
    "\n"
   ]
  },
  {
   "cell_type": "code",
   "execution_count": 24,
   "metadata": {
    "scrolled": true
   },
   "outputs": [
    {
     "name": "stdout",
     "output_type": "stream",
     "text": [
      "Test loss: 0.4182373349805071\n",
      "Test accuracy: 0.9056565656806483\n"
     ]
    }
   ],
   "source": [
    "score = model.evaluate(test_x, test_y, verbose=0)\n",
    "print('Test loss:', score[0])\n",
    "print('Test accuracy:', score[1])"
   ]
  },
  {
   "cell_type": "code",
   "execution_count": 25,
   "metadata": {},
   "outputs": [
    {
     "data": {
      "image/png": "[encoded data removed]",
      "text/plain": [
       "<Figure size 432x288 with 1 Axes>"
      ]
     },
     "metadata": {},
     "output_type": "display_data"
    }
   ],
   "source": [
    "import matplotlib.pyplot as plt\n",
    "%matplotlib inline\n",
    "\n",
    "# summarize history for accuracy\n",
    "plt.plot(history.history['acc'])\n",
    "plt.plot(history.history['val_loss'])\n",
    "plt.title('model accuracy')\n",
    "plt.ylabel('accuracy')\n",
    "plt.xlabel('epoch')\n",
    "plt.legend(['train','test'], loc='upper left')\n",
    "plt.show()"
   ]
  },
  {
   "cell_type": "code",
   "execution_count": 26,
   "metadata": {},
   "outputs": [
    {
     "data": {
      "image/png": "[encoded data removed]",
      "text/plain": [
       "<Figure size 432x288 with 1 Axes>"
      ]
     },
     "metadata": {},
     "output_type": "display_data"
    }
   ],
   "source": [
    "#summarize history for loss\n",
    "plt.plot(history.history['loss'])\n",
    "plt.plot(history.history['val_loss'])\n",
    "plt.title('model loss')\n",
    "plt.ylabel('loss')\n",
    "plt.xlabel('epoch')\n",
    "plt.legend(['train','test'], loc='upper left')\n",
    "plt.show()"
   ]
  },
  {
   "cell_type": "code",
   "execution_count": null,
   "metadata": {},
   "outputs": [],
   "source": [
    "# Plot accuracy and validation"
   ]
  },
  {
   "cell_type": "markdown",
   "metadata": {},
   "source": [
    "# Prediction\n",
    "\n",
    "Use you newly trained model to predict the class of the clothing, what's the accuracy rate? "
   ]
  },
  {
   "cell_type": "code",
   "execution_count": 27,
   "metadata": {},
   "outputs": [],
   "source": [
    "from keras.models import load_model\n",
    "\n",
    "model.save('Fashion-MNIST.h5')  # creates a HDF5 file 'my_model.h5'\n",
    "del model"
   ]
  },
  {
   "cell_type": "code",
   "execution_count": 28,
   "metadata": {},
   "outputs": [
    {
     "data": {
      "text/plain": [
       "array([  8,  11, 530,  25, 105,  16,  68,   6,   4,   7], dtype=int64)"
      ]
     },
     "execution_count": 28,
     "metadata": {},
     "output_type": "execute_result"
    }
   ],
   "source": [
    "model = load_model('Fashion-MNIST.h5')\n",
    "\n",
    "preds  = model.predict(test_x)\n",
    "np.argmax(preds,axis=0)"
   ]
  },
  {
   "cell_type": "code",
   "execution_count": null,
   "metadata": {},
   "outputs": [],
   "source": [
    "# Final prediction"
   ]
  }
 ],
 "metadata": {
  "kernelspec": {
   "display_name": "Python 3",
   "language": "python",
   "name": "python3"
  },
  "language_info": {
   "codemirror_mode": {
    "name": "ipython",
    "version": 3
   },
   "file_extension": ".py",
   "mimetype": "text/x-python",
   "name": "python",
   "nbconvert_exporter": "python",
   "pygments_lexer": "ipython3",
   "version": "3.6.5"
  }
 },
 "nbformat": 4,
 "nbformat_minor": 2
}
